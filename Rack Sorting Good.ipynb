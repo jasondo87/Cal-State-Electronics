{
 "cells": [
  {
   "cell_type": "code",
   "execution_count": 1,
   "metadata": {},
   "outputs": [],
   "source": [
    "import pandas as pd"
   ]
  },
  {
   "cell_type": "code",
   "execution_count": 2,
   "metadata": {},
   "outputs": [],
   "source": [
    "csv_file = \"ActualInv-Friday,_Mar_30,_2018,_8_30_AM.csv\""
   ]
  },
  {
   "cell_type": "code",
   "execution_count": 3,
   "metadata": {},
   "outputs": [],
   "source": [
    "inventory_df = pd.read_csv(csv_file, index_col= False)"
   ]
  },
  {
   "cell_type": "code",
   "execution_count": 4,
   "metadata": {
    "scrolled": true
   },
   "outputs": [
    {
     "data": {
      "text/html": [
       "<div>\n",
       "<style scoped>\n",
       "    .dataframe tbody tr th:only-of-type {\n",
       "        vertical-align: middle;\n",
       "    }\n",
       "\n",
       "    .dataframe tbody tr th {\n",
       "        vertical-align: top;\n",
       "    }\n",
       "\n",
       "    .dataframe thead th {\n",
       "        text-align: right;\n",
       "    }\n",
       "</style>\n",
       "<table border=\"1\" class=\"dataframe\">\n",
       "  <thead>\n",
       "    <tr style=\"text-align: right;\">\n",
       "      <th></th>\n",
       "      <th>JobNumber</th>\n",
       "      <th>InternalAsset</th>\n",
       "      <th>Make</th>\n",
       "      <th>PartNumber</th>\n",
       "      <th>Model</th>\n",
       "      <th>Condition</th>\n",
       "      <th>Purhcase Price</th>\n",
       "      <th>Kind</th>\n",
       "      <th>SerialNumber</th>\n",
       "      <th>ExternalAsset</th>\n",
       "      <th>ProcessorType</th>\n",
       "      <th>ProcessorSpeed</th>\n",
       "      <th>Memory</th>\n",
       "      <th>Storage</th>\n",
       "      <th>Dent</th>\n",
       "      <th>Location</th>\n",
       "      <th>SKU</th>\n",
       "      <th>Grade Group</th>\n",
       "      <th>SKU Group</th>\n",
       "    </tr>\n",
       "  </thead>\n",
       "  <tbody>\n",
       "    <tr>\n",
       "      <th>0</th>\n",
       "      <td>01-10064</td>\n",
       "      <td>TTR10000074655</td>\n",
       "      <td>Apple</td>\n",
       "      <td>A1286</td>\n",
       "      <td>MD103LL/A</td>\n",
       "      <td>BD</td>\n",
       "      <td>425.00</td>\n",
       "      <td>NaN</td>\n",
       "      <td>C02KQ1HSF1G3</td>\n",
       "      <td>10841696015</td>\n",
       "      <td>i7</td>\n",
       "      <td>2.7 GHz</td>\n",
       "      <td>8GB</td>\n",
       "      <td>1TB</td>\n",
       "      <td>NaN</td>\n",
       "      <td>P2-1A-1</td>\n",
       "      <td>MD103LLA-i7-8GB-D</td>\n",
       "      <td>D</td>\n",
       "      <td>MD103LLA-i7-D</td>\n",
       "    </tr>\n",
       "    <tr>\n",
       "      <th>1</th>\n",
       "      <td>01-10064</td>\n",
       "      <td>TTR10000074750</td>\n",
       "      <td>Apple</td>\n",
       "      <td>A1311</td>\n",
       "      <td>MC812LL/A</td>\n",
       "      <td>BA</td>\n",
       "      <td>265.00</td>\n",
       "      <td>NaN</td>\n",
       "      <td>D25J214BDHJT</td>\n",
       "      <td>10282864098</td>\n",
       "      <td>i7</td>\n",
       "      <td>2.8 GHz</td>\n",
       "      <td>16GB</td>\n",
       "      <td>1TB</td>\n",
       "      <td>NaN</td>\n",
       "      <td>R1-2C-1</td>\n",
       "      <td>MC812LLA-i7-16GB-B</td>\n",
       "      <td>B</td>\n",
       "      <td>MC812LLA-i7-B</td>\n",
       "    </tr>\n",
       "    <tr>\n",
       "      <th>2</th>\n",
       "      <td>01-10089</td>\n",
       "      <td>TTR10000077681</td>\n",
       "      <td>Apple</td>\n",
       "      <td>A1181</td>\n",
       "      <td>MA895LL</td>\n",
       "      <td>BD</td>\n",
       "      <td>55.00</td>\n",
       "      <td>NaN</td>\n",
       "      <td>RM8032E7Z63</td>\n",
       "      <td>10851557925</td>\n",
       "      <td>C2D</td>\n",
       "      <td>2.2 GHz</td>\n",
       "      <td>1GB</td>\n",
       "      <td>120GB</td>\n",
       "      <td>NaN</td>\n",
       "      <td>S10-3D-2</td>\n",
       "      <td>MA895LL-C2D-1GB-D</td>\n",
       "      <td>D</td>\n",
       "      <td>MA895LL-C2D-D</td>\n",
       "    </tr>\n",
       "    <tr>\n",
       "      <th>3</th>\n",
       "      <td>01-10089</td>\n",
       "      <td>TTR10000077245</td>\n",
       "      <td>Apple</td>\n",
       "      <td>A1418</td>\n",
       "      <td>ME086LL/A</td>\n",
       "      <td>CA</td>\n",
       "      <td>410.96</td>\n",
       "      <td>NaN</td>\n",
       "      <td>C02LDARXF8J2</td>\n",
       "      <td>10857792922</td>\n",
       "      <td>i5</td>\n",
       "      <td>2.7 GHz</td>\n",
       "      <td>8GB</td>\n",
       "      <td>1TB</td>\n",
       "      <td>NaN</td>\n",
       "      <td>R1-4D-1</td>\n",
       "      <td>ME086LLA-i5-8GB-C</td>\n",
       "      <td>C</td>\n",
       "      <td>ME086LLA-i5-C</td>\n",
       "    </tr>\n",
       "    <tr>\n",
       "      <th>4</th>\n",
       "      <td>01-10073</td>\n",
       "      <td>TTR10000076757</td>\n",
       "      <td>Apple</td>\n",
       "      <td>A1502</td>\n",
       "      <td>MGX92LL/A</td>\n",
       "      <td>DA</td>\n",
       "      <td>625.00</td>\n",
       "      <td>NaN</td>\n",
       "      <td>C02N89Q3G3QK</td>\n",
       "      <td>10238985971</td>\n",
       "      <td>i5</td>\n",
       "      <td>2.8 GHz</td>\n",
       "      <td>8GB</td>\n",
       "      <td>500GB</td>\n",
       "      <td>NaN</td>\n",
       "      <td>P1-1A-1</td>\n",
       "      <td>MGX92LLA-i5-8GB-D</td>\n",
       "      <td>D</td>\n",
       "      <td>MGX92LLA-i5-D</td>\n",
       "    </tr>\n",
       "  </tbody>\n",
       "</table>\n",
       "</div>"
      ],
      "text/plain": [
       "  JobNumber   InternalAsset   Make PartNumber      Model Condition  \\\n",
       "0  01-10064  TTR10000074655  Apple      A1286  MD103LL/A        BD   \n",
       "1  01-10064  TTR10000074750  Apple      A1311  MC812LL/A        BA   \n",
       "2  01-10089  TTR10000077681  Apple      A1181    MA895LL        BD   \n",
       "3  01-10089  TTR10000077245  Apple      A1418  ME086LL/A        CA   \n",
       "4  01-10073  TTR10000076757  Apple      A1502  MGX92LL/A        DA   \n",
       "\n",
       "   Purhcase Price Kind  SerialNumber ExternalAsset ProcessorType  \\\n",
       "0          425.00  NaN  C02KQ1HSF1G3   10841696015            i7   \n",
       "1          265.00  NaN  D25J214BDHJT   10282864098            i7   \n",
       "2           55.00  NaN   RM8032E7Z63   10851557925           C2D   \n",
       "3          410.96  NaN  C02LDARXF8J2   10857792922            i5   \n",
       "4          625.00  NaN  C02N89Q3G3QK   10238985971            i5   \n",
       "\n",
       "  ProcessorSpeed Memory Storage Dent  Location                 SKU  \\\n",
       "0        2.7 GHz    8GB     1TB  NaN   P2-1A-1   MD103LLA-i7-8GB-D   \n",
       "1        2.8 GHz   16GB     1TB  NaN   R1-2C-1  MC812LLA-i7-16GB-B   \n",
       "2        2.2 GHz    1GB   120GB  NaN  S10-3D-2   MA895LL-C2D-1GB-D   \n",
       "3        2.7 GHz    8GB     1TB  NaN   R1-4D-1   ME086LLA-i5-8GB-C   \n",
       "4        2.8 GHz    8GB   500GB  NaN   P1-1A-1   MGX92LLA-i5-8GB-D   \n",
       "\n",
       "  Grade Group      SKU Group  \n",
       "0           D  MD103LLA-i7-D  \n",
       "1           B  MC812LLA-i7-B  \n",
       "2           D  MA895LL-C2D-D  \n",
       "3           C  ME086LLA-i5-C  \n",
       "4           D  MGX92LLA-i5-D  "
      ]
     },
     "execution_count": 4,
     "metadata": {},
     "output_type": "execute_result"
    }
   ],
   "source": [
    "inventory_df.head()"
   ]
  },
  {
   "cell_type": "code",
   "execution_count": 5,
   "metadata": {},
   "outputs": [
    {
     "data": {
      "text/plain": [
       "array(['P2-1A-1', 'R1-2C-1', 'S10-3D-2', 'R1-4D-1', 'P1-1A-1', 'RETAIL',\n",
       "       'DUL-3', 'R1-2E-1', 'DUL-7', 'P2-1A-2', 'DIML-3', 'P1-4A-2',\n",
       "       'P2-3B-1', 'S10-3C-1', 'S10-3C-2', 'JD', 'R1-3A-2', 'FBAMJVM2LL/A',\n",
       "       'P2-4A-2', 'FBAIMACS030618', 'DUL-4', 'P1-1A-2', 'P2-3A-1',\n",
       "       'P1-2A-2', 'R1-3D-1', 'P1-3A-2', 'P2-3A-2', 'R2-3D-2', 'BLAKE',\n",
       "       'P2-4A-1', 'DUL-16', 'R1-2D-1', 'R1-2A-2', 'AMAZONFBA(MLH12LL/A)',\n",
       "       'P1-1B-2', 'DUL-10', 'R1-4D-2', 'P1-3A-1', 'P1-4A-1', 'R1-2E-2',\n",
       "       'FBAIMAC(3/27/18)', 'DIML-1', 'P2-2A-2', 'P2-2A-1', 'R2-2D-1',\n",
       "       'R2-2D-2', 'DIML-2', 'R1-4B-2', 'R2-3C-2', 'DUL-11', 'DUL-1',\n",
       "       'P1-3B-2', 'RACK', 'R1-1E-3', 'R1-1A-1', 'P1-4B-2', 'R2-2E-1',\n",
       "       'DUL-9', 'P2-1B-2', 'P1-2A-1', 'P1-3C-1', 'P2-1B-1', 'R2-2B-1',\n",
       "       'S10-2B-1', 'R2-3C-1', 'R1-1E-1', 'DUL-8', 'DUL-15', 'P1-2B-1',\n",
       "       'R1-2B-1', 'P1-3B-1', 'R1-1B-2', 'S10-2C-2', 'R1-1C-2', 'P1-4B-1',\n",
       "       'R2-1C-1', 'DUL-14', 'R1-1A-2', 'R1-3D-2', 'R1-1D-2', 'R1-1D-1',\n",
       "       'R2-2E-2', 'R2-2B-2', 'DUL-13', 'R1-3C-2', 'DUL-2', 'S10-2C-1',\n",
       "       'P2-2B-1', 'R1-3B-2', 'R1-4E-2', 'R1-4A-2', 'DUL-5', 'R2-2C-2',\n",
       "       'R2-3E-1', 'R1-3B-1', 'R1-1A-3', 'P2-2C-1', 'R2-3B-1', 'R1-1C-1',\n",
       "       'R2-1B-2', 'R1-3C-1', 'R2-3D-1', 'DUL-12', 'R2-1D-1', 'R1-3E-1',\n",
       "       'R1-1C-3', 'R1-2B-2', 'R1-1B-1', 'R8-2D-1', 'R1-1E-2', 'S10-3B-2',\n",
       "       'R1-1D-3', 'DUL-6', 'R1-2A-1', 'R1-4A-1', 'R2-4D-1', 'R1-4E-1',\n",
       "       'R1-4C-2', 'R1-4B-1', 'SFI-1', 'P1-1B-1', 'R1-4C-1', 'P1-2C-1',\n",
       "       'R2-1E-2', nan, 'R2-2C-1', 'P2-4B-1', 'R1-2D-2', 'R2-4D-2',\n",
       "       'R1-1B-3', 'R2-1C-2', 'R2-3A-1', 'R2-1D-2', '1600', 'R2-1E-1',\n",
       "       'R1-3A-1', 'R2-4A-2', 'P2-3C-1', 'R2-4E-1', 'R2-4B-1', 'P1-2B-2',\n",
       "       'P2-2B-2', 'P2-1C-2', 'P2-4C-2', 'R8-1D-1', 'S10-3D-1', 'R1-2C-2',\n",
       "       'R1-3E-2', 'R2-3B-2', 'R2-3E-2', 'R2-4B-2', 'R2-3A-2', 'R2-4C-1'],\n",
       "      dtype=object)"
      ]
     },
     "execution_count": 5,
     "metadata": {},
     "output_type": "execute_result"
    }
   ],
   "source": [
    "count = inventory_df[\"Location\"].unique()\n",
    "count\n",
    "\n"
   ]
  },
  {
   "cell_type": "code",
   "execution_count": 6,
   "metadata": {},
   "outputs": [
    {
     "data": {
      "text/plain": [
       "0     P2-1A-1\n",
       "1     R1-2C-1\n",
       "2    S10-3D-2\n",
       "3     R1-4D-1\n",
       "4     P1-1A-1\n",
       "Name: Location, dtype: object"
      ]
     },
     "execution_count": 6,
     "metadata": {},
     "output_type": "execute_result"
    }
   ],
   "source": [
    "item_locs = inventory_df[\"Location\"]\n",
    "item_locs.head()"
   ]
  },
  {
   "cell_type": "code",
   "execution_count": 7,
   "metadata": {},
   "outputs": [],
   "source": [
    "#pull out all the rack values\n",
    "rack_loc = item_locs.loc[item_locs.isin(['P2-2A-2', 'P2-1A-1', 'R1-2C-1', 'S10-3D-2', 'R1-4D-1',\n",
    "       'R1-2E-1', 'P2-3B-1', 'S10-3C-2',\n",
    "       'R1-3A-2', 'P1-1A-1', 'P2-4A-2', \n",
    "       'P1-1A-2', 'P1-4A-1', 'P2-3A-1', 'P1-2A-2', 'R1-3D-1',\n",
    "       'S10-3C-1', 'P1-3A-2','P2-3A-2', 'R2-3D-2',\n",
    "       'P2-4A-1','R1-2D-1', 'R2-1A-2', 'R1-2A-2',\n",
    "        'P1-1B-2','R1-4D-2', 'P1-3A-1',\n",
    "       'R1-2E-2', 'R2-2D-1', 'R2-2D-2','R1-4B-2',\n",
    "       'R2-3C-2','P1-3B-2', 'R1-1E-3', 'P1-4A-2',\n",
    "       'R1-1A-1', 'P1-4B-2', 'R2-2E-1','P2-2A-1', 'P2-1B-2',\n",
    "       'P1-2A-1', 'P1-3C-1', 'P2-1B-1','R2-2A-1', 'S10-2B-1',\n",
    "       'P2-1A-2', 'R2-3C-1', 'R1-1E-1', 'P1-2B-1',\n",
    "       'R1-2B-1', 'P1-3B-1', 'R1-1B-2', 'S10-2C-2', 'R1-1C-2', 'P2-3B-2',\n",
    "       'P1-4B-1', 'R2-1C-1','R1-1A-2', 'R1-3D-2', 'R1-1D-2',\n",
    "       'R1-1D-1', 'R2-2E-2', 'R2-2B-2', 'R1-3C-2',\n",
    "       'S10-2C-1', 'P2-2B-1', 'P2-4B-2', 'R1-3B-2', 'R1-4E-2', 'R1-4A-2',\n",
    "        'R2-2C-2', 'R2-4C-2', 'R2-3E-1', 'R1-3B-1', 'P2-3C-2',\n",
    "       'R2-4A-2', 'R2-1A-1', 'R1-1A-3', 'P2-2C-1', 'R2-3B-1', 'R1-1C-1',\n",
    "       'R2-1C-2', 'R1-3C-1', 'R2-1B-1', 'R2-3D-1', 'R2-1B-2',\n",
    "       'R2-1D-1', 'R1-3E-1', 'R1-1C-3', 'R1-2B-2', 'R1-1B-1', 'R8-2D-1',\n",
    "       'R2-4C-1', 'P2-1C-1', 'R1-1E-2', 'S10-3B-2', 'R1-1D-3', 'S10-3D-1',\n",
    "       'R1-2A-1', 'R1-4A-1', 'R2-4D-1', 'R1-4E-1', 'R1-4C-2',\n",
    "       'R1-4B-1', 'P2-2B-2', 'P1-1B-1', 'R1-4C-1', 'P1-2C-1',\n",
    "       'R2-1E-2', 'R2-2C-1', 'P2-4B-1', 'R1-2D-2', 'R2-4D-2',\n",
    "       'R1-1B-3', 'R2-3A-1', 'R2-1D-2', 'R2-4A-1', 'R2-1E-1',\n",
    "       'R2-2A-2', 'R1-3A-1', 'P2-3C-1', 'R2-4E-1', 'P1-2B-2', 'P2-1C-2',\n",
    "       'P2-4C-2', 'R2-2B-1', 'R8-1D-1', 'P1-4C-1', 'P1-3C-2', 'P1-4C-2',\n",
    "       'R1-2C-2', 'R1-3E-2', 'R2-3B-2', 'R2-3E-2', 'R2-4B-1', 'R2-4B-2',\n",
    "       'R2-3A-2'])]\n",
    "\n"
   ]
  },
  {
   "cell_type": "code",
   "execution_count": 8,
   "metadata": {},
   "outputs": [
    {
     "ename": "NameError",
     "evalue": "name 'summary_merged' is not defined",
     "output_type": "error",
     "traceback": [
      "\u001b[1;31m---------------------------------------------------------------------------\u001b[0m",
      "\u001b[1;31mNameError\u001b[0m                                 Traceback (most recent call last)",
      "\u001b[1;32m<ipython-input-8-8e7f63fd631e>\u001b[0m in \u001b[0;36m<module>\u001b[1;34m()\u001b[0m\n\u001b[1;32m----> 1\u001b[1;33m \u001b[1;32mdel\u001b[0m \u001b[0msummary_merged\u001b[0m\u001b[1;33m[\u001b[0m\u001b[1;34m\"size\"\u001b[0m\u001b[1;33m]\u001b[0m\u001b[1;33m\u001b[0m\u001b[0m\n\u001b[0m\u001b[0;32m      2\u001b[0m \u001b[1;32mdel\u001b[0m \u001b[0mrack_loc\u001b[0m\u001b[1;33m[\u001b[0m\u001b[1;34m\"PartNumber\"\u001b[0m\u001b[1;33m]\u001b[0m\u001b[1;33m\u001b[0m\u001b[0m\n\u001b[0;32m      3\u001b[0m \u001b[0mrack_loc\u001b[0m\u001b[1;33m.\u001b[0m\u001b[0mdrop\u001b[0m\u001b[1;33m(\u001b[0m\u001b[0mrack_loc\u001b[0m\u001b[1;33m.\u001b[0m\u001b[0mcolumns\u001b[0m\u001b[1;33m[\u001b[0m\u001b[1;33m[\u001b[0m\u001b[1;36m2\u001b[0m\u001b[1;33m,\u001b[0m\u001b[1;36m7\u001b[0m\u001b[1;33m,\u001b[0m\u001b[1;36m9\u001b[0m\u001b[1;33m,\u001b[0m\u001b[1;36m17\u001b[0m\u001b[1;33m,\u001b[0m\u001b[1;36m18\u001b[0m\u001b[1;33m]\u001b[0m\u001b[1;33m]\u001b[0m\u001b[1;33m,\u001b[0m \u001b[0maxis\u001b[0m\u001b[1;33m=\u001b[0m\u001b[1;36m1\u001b[0m\u001b[1;33m,\u001b[0m \u001b[0minplace\u001b[0m\u001b[1;33m=\u001b[0m\u001b[1;32mTrue\u001b[0m\u001b[1;33m)\u001b[0m\u001b[1;33m\u001b[0m\u001b[0m\n",
      "\u001b[1;31mNameError\u001b[0m: name 'summary_merged' is not defined"
     ]
    }
   ],
   "source": [
    "del summary_merged[\"size\"]\n",
    "del rack_loc[\"PartNumber\"]\n",
    "rack_loc.drop(rack_loc.columns[[2,7,9,17,18]], axis=1, inplace=True)\n"
   ]
  },
  {
   "cell_type": "code",
   "execution_count": 74,
   "metadata": {},
   "outputs": [
    {
     "data": {
      "text/plain": [
       "0        P2-1A-1\n",
       "1        R1-2C-1\n",
       "2       S10-3D-2\n",
       "3        R1-4D-1\n",
       "6        R1-2E-1\n",
       "9        P2-3B-1\n",
       "10      S10-3C-2\n",
       "11      S10-3C-2\n",
       "13       R1-3A-2\n",
       "14       P1-1A-1\n",
       "16       P2-4A-2\n",
       "22       P1-1A-2\n",
       "24       P2-3A-1\n",
       "25       P1-2A-2\n",
       "26       R1-3D-1\n",
       "27      S10-3C-1\n",
       "28       P1-3A-2\n",
       "29       P2-3A-2\n",
       "32       R2-3D-2\n",
       "34       P2-4A-1\n",
       "39       P2-3B-1\n",
       "41       R1-2D-1\n",
       "42       R2-1B-1\n",
       "43       R1-2A-2\n",
       "45       P1-1B-2\n",
       "47       R1-4D-2\n",
       "48       P1-3A-1\n",
       "49       P1-4A-1\n",
       "50       P1-1A-1\n",
       "54       P2-1B-1\n",
       "          ...   \n",
       "1796     R1-3E-2\n",
       "1797     R1-4E-2\n",
       "1798     R1-2D-1\n",
       "1799     R1-2C-1\n",
       "1800     R1-3B-2\n",
       "1802     R1-3A-2\n",
       "1803     R1-1D-2\n",
       "1805     R1-2E-2\n",
       "1807     R1-1D-1\n",
       "1808     R2-2C-1\n",
       "1809     R2-1B-1\n",
       "1814     R2-2B-1\n",
       "1815     P2-3A-2\n",
       "1816     P2-4A-1\n",
       "1817     P1-1A-2\n",
       "1818     P2-3A-1\n",
       "1819     P2-3A-1\n",
       "1820     P2-3A-2\n",
       "1821     P1-1A-2\n",
       "1822     P2-2A-1\n",
       "1823     P1-1A-2\n",
       "1824    S10-3D-2\n",
       "1825     P1-4A-1\n",
       "1827     P1-1A-2\n",
       "1828     P2-3A-2\n",
       "1829     P1-4A-2\n",
       "1830    S10-3C-1\n",
       "1831     P1-3A-2\n",
       "1833     P1-4A-1\n",
       "1835     R2-1E-2\n",
       "Name: Location, Length: 1176, dtype: object"
      ]
     },
     "execution_count": 74,
     "metadata": {},
     "output_type": "execute_result"
    }
   ],
   "source": [
    "#rack_loc"
   ]
  },
  {
   "cell_type": "code",
   "execution_count": 9,
   "metadata": {},
   "outputs": [],
   "source": [
    "rack_loc.to_excel(\"output/rackrack.xlsx\", index=False)"
   ]
  },
  {
   "cell_type": "code",
   "execution_count": null,
   "metadata": {},
   "outputs": [],
   "source": []
  },
  {
   "cell_type": "code",
   "execution_count": null,
   "metadata": {},
   "outputs": [],
   "source": []
  },
  {
   "cell_type": "code",
   "execution_count": null,
   "metadata": {},
   "outputs": [],
   "source": []
  }
 ],
 "metadata": {
  "kernelspec": {
   "display_name": "Python 3",
   "language": "python",
   "name": "python3"
  },
  "language_info": {
   "codemirror_mode": {
    "name": "ipython",
    "version": 3
   },
   "file_extension": ".py",
   "mimetype": "text/x-python",
   "name": "python",
   "nbconvert_exporter": "python",
   "pygments_lexer": "ipython3",
   "version": "3.6.4"
  }
 },
 "nbformat": 4,
 "nbformat_minor": 2
}
